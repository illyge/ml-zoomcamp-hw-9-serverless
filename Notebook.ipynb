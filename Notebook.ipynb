{
 "cells": [
  {
   "cell_type": "code",
   "execution_count": null,
   "id": "aea7cb4e-98f1-46c3-9b64-34ad865cca90",
   "metadata": {},
   "outputs": [],
   "source": [
    "!wget https://github.com/SVizor42/ML_Zoomcamp/releases/download/dino-dragon-model/dino_dragon_10_0.899.h5"
   ]
  },
  {
   "cell_type": "code",
   "execution_count": null,
   "id": "d3d5bad0-2cfb-487b-8bf8-07dade837470",
   "metadata": {},
   "outputs": [],
   "source": [
    "from tensorflow import keras\n",
    "import tensorflow as tf"
   ]
  },
  {
   "cell_type": "code",
   "execution_count": null,
   "id": "0ceedf4f-7acf-4c1e-a750-d50f8c09b04d",
   "metadata": {},
   "outputs": [],
   "source": [
    "model = keras.models.load_model(\"dino_dragon_10_0.899.h5\")"
   ]
  },
  {
   "cell_type": "code",
   "execution_count": null,
   "id": "d41034f6-bf68-4f96-8e14-0d0ac5eab372",
   "metadata": {},
   "outputs": [],
   "source": [
    "model.summary()"
   ]
  },
  {
   "cell_type": "code",
   "execution_count": null,
   "id": "082951b1-d6ff-4c92-ac39-c516ddbd4a61",
   "metadata": {},
   "outputs": [],
   "source": [
    "model.inputs"
   ]
  },
  {
   "cell_type": "code",
   "execution_count": null,
   "id": "08d78c8e-36cb-4d69-bf1a-c10b07485575",
   "metadata": {},
   "outputs": [],
   "source": [
    "from tensorflow.keras.preprocessing.image import load_img\n",
    "import numpy as np"
   ]
  },
  {
   "cell_type": "code",
   "execution_count": null,
   "id": "cef39bce-bf5c-4ad0-bb49-62ff1791a25e",
   "metadata": {},
   "outputs": [],
   "source": [
    "dino_img = load_img(\"test/dino/0c494627-2ed2-49c7-9ff7-e70308ad5fcb.jpg\", target_size=(150, 150))\n",
    "dragon_img = load_img(\"test/dragon/01f69481-dab1-41f0-9c69-01d1969aa575.jpg\", target_size=(150, 150))"
   ]
  },
  {
   "cell_type": "code",
   "execution_count": null,
   "id": "c8ea5cb0-c26e-490a-8fbf-68d3ff255cab",
   "metadata": {},
   "outputs": [],
   "source": [
    "X_dino = np.array([np.array(dino_img)/255])\n",
    "X_dragon = np.array([np.array(dragon_img)/255])"
   ]
  },
  {
   "cell_type": "code",
   "execution_count": null,
   "id": "f6c60feb-146e-46a5-a023-b3407a740554",
   "metadata": {},
   "outputs": [],
   "source": [
    "dino_prediction = model.predict(X_dino)\n",
    "dragon_prediction = model.predict(X_dragon)"
   ]
  },
  {
   "cell_type": "code",
   "execution_count": null,
   "id": "3e161189-af85-47d9-840d-87a4c0638b16",
   "metadata": {},
   "outputs": [],
   "source": [
    "dragon_prediction[0, 0]"
   ]
  },
  {
   "cell_type": "code",
   "execution_count": null,
   "id": "a32665c8-64a4-4244-b926-283067fbd8a4",
   "metadata": {},
   "outputs": [],
   "source": [
    "dino_prediction[0, 0]"
   ]
  },
  {
   "cell_type": "markdown",
   "id": "cf58800e-3b5c-433c-b8f9-ad9cd13f3d23",
   "metadata": {},
   "source": [
    "## Convert to Lite"
   ]
  },
  {
   "cell_type": "code",
   "execution_count": null,
   "id": "36a6cb4a-c308-43f3-b80f-3966f979512d",
   "metadata": {},
   "outputs": [],
   "source": [
    "converter = tf.lite.TFLiteConverter.from_keras_model(model)\n",
    "tflite_model = converter.convert()\n",
    "with open('reptile-model.tflite', 'wb') as f_out:\n",
    "    f_out.write(tflite_model)"
   ]
  },
  {
   "cell_type": "markdown",
   "id": "481c4311-4ea7-475e-99fe-0eb8b831d4a0",
   "metadata": {},
   "source": [
    "### Question 1"
   ]
  },
  {
   "cell_type": "code",
   "execution_count": null,
   "id": "06fd4b9f-3e42-402f-9b36-9e09e75f1056",
   "metadata": {},
   "outputs": [],
   "source": [
    "!ls -lh"
   ]
  },
  {
   "cell_type": "code",
   "execution_count": null,
   "id": "44435208-368e-4407-873e-093b8ff1c0fc",
   "metadata": {},
   "outputs": [],
   "source": [
    "import tensorflow.lite as tflite"
   ]
  },
  {
   "cell_type": "code",
   "execution_count": null,
   "id": "ffa0035e-b5e6-466c-9279-ca8ca94260ac",
   "metadata": {},
   "outputs": [],
   "source": [
    "interpreter = tflite.Interpreter(model_path='reptile-model.tflite')\n",
    "interpreter.allocate_tensors()"
   ]
  },
  {
   "cell_type": "code",
   "execution_count": null,
   "id": "7bf26dbe-4918-4563-ba6c-b18e6f2edc35",
   "metadata": {},
   "outputs": [],
   "source": [
    "input_index = interpreter.get_input_details()[0]['index']\n",
    "output_index = interpreter.get_output_details()[0]['index']"
   ]
  },
  {
   "cell_type": "markdown",
   "id": "7220e008-8b87-4734-95c7-40f276f18a66",
   "metadata": {},
   "source": [
    "### Question 2"
   ]
  },
  {
   "cell_type": "code",
   "execution_count": null,
   "id": "45718ed9-fca3-4d6a-813f-0fe1dfafcf43",
   "metadata": {},
   "outputs": [],
   "source": [
    "input_index, output_index"
   ]
  },
  {
   "cell_type": "code",
   "execution_count": null,
   "id": "6eefc6dc-c9f7-4abf-baec-527676dabde5",
   "metadata": {},
   "outputs": [],
   "source": [
    "interpreter.set_tensor(input_index, np.array(X_dragon, dtype=np.float32))"
   ]
  },
  {
   "cell_type": "code",
   "execution_count": null,
   "id": "db24c82e-0aec-424e-9dd2-ce6b02a816ff",
   "metadata": {},
   "outputs": [],
   "source": [
    "interpreter.invoke()"
   ]
  },
  {
   "cell_type": "code",
   "execution_count": null,
   "id": "65559895-026a-4e76-9a02-ac15ec63a624",
   "metadata": {},
   "outputs": [],
   "source": [
    "interpreter.get_tensor(output_index)"
   ]
  },
  {
   "cell_type": "markdown",
   "id": "7c237863-241d-4de7-98ec-bc21b16b137b",
   "metadata": {},
   "source": [
    "## Obtaining image"
   ]
  },
  {
   "cell_type": "code",
   "execution_count": null,
   "id": "2c2a3d01-570f-4b8c-a9a5-5b43fb247e0b",
   "metadata": {},
   "outputs": [],
   "source": [
    "from io import BytesIO\n",
    "from urllib import request\n",
    "\n",
    "from PIL import Image\n",
    "\n",
    "def download_image(url):\n",
    "    with request.urlopen(url) as resp:\n",
    "        buffer = resp.read()\n",
    "    stream = BytesIO(buffer)\n",
    "    img = Image.open(stream)\n",
    "    return img\n",
    "\n",
    "\n",
    "def prepare_image(img, target_size):\n",
    "    if img.mode != 'RGB':\n",
    "        img = img.convert('RGB')\n",
    "    img = img.resize(target_size, Image.NEAREST)\n",
    "    return img"
   ]
  },
  {
   "cell_type": "code",
   "execution_count": null,
   "id": "13ec36d4-391e-4bf4-946e-53fe51e14853",
   "metadata": {},
   "outputs": [],
   "source": [
    "img = download_image(\"https://upload.wikimedia.org/wikipedia/commons/thumb/d/df/Smaug_par_David_Demaret.jpg/1280px-Smaug_par_David_Demaret.jpg\")"
   ]
  },
  {
   "cell_type": "code",
   "execution_count": null,
   "id": "ab3c06b2-7726-48c0-9e75-c92d1a46079f",
   "metadata": {},
   "outputs": [],
   "source": [
    "img = prepare_image(img, (150, 150))"
   ]
  },
  {
   "cell_type": "code",
   "execution_count": null,
   "id": "3eeadf3f-6dfd-4e54-8b65-0f8c5dd9533d",
   "metadata": {},
   "outputs": [],
   "source": [
    "img"
   ]
  },
  {
   "cell_type": "markdown",
   "id": "b8fb20e7-e6b7-475c-9ee9-73a08a1a3671",
   "metadata": {},
   "source": [
    "### Question 3"
   ]
  },
  {
   "cell_type": "code",
   "execution_count": null,
   "id": "a4cf06c0-9365-4314-95ef-df40ad0a872f",
   "metadata": {},
   "outputs": [],
   "source": [
    "X = np.array([np.array(img)/255])\n",
    "X[0, 0, 0, 0]"
   ]
  },
  {
   "cell_type": "markdown",
   "id": "9458ad51-048c-4c1b-aa98-ce5c8a1a13a0",
   "metadata": {},
   "source": [
    "### Question 4"
   ]
  },
  {
   "cell_type": "code",
   "execution_count": null,
   "id": "493bdc75-88f0-48da-95c8-14ca8adbbaf4",
   "metadata": {},
   "outputs": [],
   "source": [
    "interpreter.set_tensor(input_index,  np.array(X, dtype=np.float32))\n",
    "interpreter.invoke()\n",
    "preds = interpreter.get_tensor(output_index)\n",
    "preds"
   ]
  },
  {
   "cell_type": "code",
   "execution_count": null,
   "id": "59f3e404-aabe-4809-8d85-415b1b533d8a",
   "metadata": {},
   "outputs": [],
   "source": []
  }
 ],
 "metadata": {
  "kernelspec": {
   "display_name": "Python 3 (ipykernel)",
   "language": "python",
   "name": "python3"
  },
  "language_info": {
   "codemirror_mode": {
    "name": "ipython",
    "version": 3
   },
   "file_extension": ".py",
   "mimetype": "text/x-python",
   "name": "python",
   "nbconvert_exporter": "python",
   "pygments_lexer": "ipython3",
   "version": "3.10.6"
  }
 },
 "nbformat": 4,
 "nbformat_minor": 5
}
